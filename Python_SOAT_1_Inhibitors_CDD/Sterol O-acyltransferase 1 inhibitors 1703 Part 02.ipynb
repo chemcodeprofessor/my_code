{
 "cells": [
  {
   "cell_type": "markdown",
   "id": "4d722c25",
   "metadata": {},
   "source": [
    "# **Computational Drug Discovery - SOAT-1 : Exploratory Data Analysis Part 02**\n",
    "\n",
    "Khalid El Akri\n",
    "\n",
    "[*'Chem Code Professor' YouTube channel*](http://youtube.com/@chemcodeprofessor)\n",
    "\n",
    "In this Jupyter notebook, we will be building a real-life **data science project** that you can include in your **data science portfolio**. Particularly, we will be building a machine learning model using the Bindingdb bioactivity data.\n",
    "\n",
    "In this **Part 02**, we will be performing Descriptor Calculation and Exploratory Data Analysis. Let get started! Shall we ;)\n",
    "\n",
    "---"
   ]
  },
  {
   "cell_type": "markdown",
   "id": "e56ed625",
   "metadata": {},
   "source": [
    "## **Install rdkit**"
   ]
  },
  {
   "cell_type": "code",
   "execution_count": 1,
   "id": "c9598c21",
   "metadata": {},
   "outputs": [
    {
     "name": "stdout",
     "output_type": "stream",
     "text": [
      "Requirement already satisfied: rdkit in /Users/akrikhalid/anaconda3/lib/python3.10/site-packages (2023.3.1)\r\n",
      "Requirement already satisfied: numpy in /Users/akrikhalid/anaconda3/lib/python3.10/site-packages (from rdkit) (1.23.5)\r\n",
      "Requirement already satisfied: Pillow in /Users/akrikhalid/anaconda3/lib/python3.10/site-packages (from rdkit) (9.4.0)\r\n"
     ]
    }
   ],
   "source": [
    "! pip install rdkit"
   ]
  },
  {
   "cell_type": "markdown",
   "id": "9eecca9e",
   "metadata": {},
   "source": [
    "## **Load SOAT-2 bioactivity data**"
   ]
  },
  {
   "cell_type": "code",
   "execution_count": 2,
   "id": "d419ee42",
   "metadata": {},
   "outputs": [],
   "source": [
    "import pandas as pd"
   ]
  },
  {
   "cell_type": "code",
   "execution_count": 3,
   "id": "32b1a9f5",
   "metadata": {},
   "outputs": [],
   "source": [
    "df = pd.read_csv('final_output.csv')"
   ]
  },
  {
   "cell_type": "markdown",
   "id": "823616a5",
   "metadata": {},
   "source": [
    "## **Calculate Lipinski descriptors**\n",
    "Christopher Lipinski, a scientist at Pfizer, came up with a set of rule-of-thumb for evaluating the **druglikeness** of compounds. Such druglikeness is based on the Absorption, Distribution, Metabolism and Excretion (ADME) that is also known as the pharmacokinetic profile. Lipinski analyzed all orally active FDA-approved drugs in the formulation of what is to be known as the **Rule-of-Five** or **Lipinski's Rule**.\n",
    "\n",
    "The Lipinski's Rule stated the following:\n",
    "* Molecular weight < 500 Dalton\n",
    "* Octanol-water partition coefficient (LogP) < 5\n",
    "* Hydrogen bond donors < 5\n",
    "* Hydrogen bond acceptors < 10 "
   ]
  },
  {
   "cell_type": "markdown",
   "id": "c5de7d2f",
   "metadata": {},
   "source": [
    "### **Import libraries**"
   ]
  },
  {
   "cell_type": "code",
   "execution_count": 4,
   "id": "99a1ae0e",
   "metadata": {},
   "outputs": [],
   "source": [
    "import numpy as np\n",
    "from rdkit import Chem\n",
    "from rdkit.Chem import Descriptors, Lipinski"
   ]
  },
  {
   "cell_type": "markdown",
   "id": "c4a3bc52",
   "metadata": {},
   "source": [
    "### **Calculate descriptors**"
   ]
  },
  {
   "cell_type": "code",
   "execution_count": 6,
   "id": "48558a67",
   "metadata": {},
   "outputs": [],
   "source": [
    "# Inspired by: https://codeocean.com/explore/capsules?query=tag:data-curation\n",
    "\n",
    "def lipinski(smiles, verbose=False):\n",
    "\n",
    "    moldata= []\n",
    "    for elem in smiles:\n",
    "        mol=Chem.MolFromSmiles(elem) \n",
    "        moldata.append(mol)\n",
    "       \n",
    "    baseData= np.arange(1,1)\n",
    "    i=0  \n",
    "    for mol in moldata:        \n",
    "       \n",
    "        desc_MolWt = Descriptors.MolWt(mol)\n",
    "        desc_MolLogP = Descriptors.MolLogP(mol)\n",
    "        desc_NumHDonors = Lipinski.NumHDonors(mol)\n",
    "        desc_NumHAcceptors = Lipinski.NumHAcceptors(mol)\n",
    "           \n",
    "        row = np.array([desc_MolWt,\n",
    "                        desc_MolLogP,\n",
    "                        desc_NumHDonors,\n",
    "                        desc_NumHAcceptors])   \n",
    "    \n",
    "        if(i==0):\n",
    "            baseData=row\n",
    "        else:\n",
    "            baseData=np.vstack([baseData, row])\n",
    "        i=i+1      \n",
    "    \n",
    "    columnNames=[\"MW\",\"LogP\",\"NumHDonors\",\"NumHAcceptors\"]   \n",
    "    descriptors = pd.DataFrame(data=baseData,columns=columnNames)\n",
    "    \n",
    "    return descriptors"
   ]
  },
  {
   "cell_type": "code",
   "execution_count": 7,
   "id": "7fe39596",
   "metadata": {},
   "outputs": [],
   "source": [
    "df_lipinski = lipinski(df.mol_smiles)"
   ]
  },
  {
   "cell_type": "markdown",
   "id": "75447c5e",
   "metadata": {},
   "source": [
    "### **Combine DataFrames**\n",
    "\n",
    "Let's take a look at the 2 DataFrames that will be combined."
   ]
  },
  {
   "cell_type": "code",
   "execution_count": 8,
   "id": "b59a6d08",
   "metadata": {},
   "outputs": [
    {
     "data": {
      "text/html": [
       "<div>\n",
       "<style scoped>\n",
       "    .dataframe tbody tr th:only-of-type {\n",
       "        vertical-align: middle;\n",
       "    }\n",
       "\n",
       "    .dataframe tbody tr th {\n",
       "        vertical-align: top;\n",
       "    }\n",
       "\n",
       "    .dataframe thead th {\n",
       "        text-align: right;\n",
       "    }\n",
       "</style>\n",
       "<table border=\"1\" class=\"dataframe\">\n",
       "  <thead>\n",
       "    <tr style=\"text-align: right;\">\n",
       "      <th></th>\n",
       "      <th>MW</th>\n",
       "      <th>LogP</th>\n",
       "      <th>NumHDonors</th>\n",
       "      <th>NumHAcceptors</th>\n",
       "    </tr>\n",
       "  </thead>\n",
       "  <tbody>\n",
       "    <tr>\n",
       "      <th>0</th>\n",
       "      <td>511.538</td>\n",
       "      <td>4.24260</td>\n",
       "      <td>0.0</td>\n",
       "      <td>8.0</td>\n",
       "    </tr>\n",
       "    <tr>\n",
       "      <th>1</th>\n",
       "      <td>466.541</td>\n",
       "      <td>4.33440</td>\n",
       "      <td>0.0</td>\n",
       "      <td>6.0</td>\n",
       "    </tr>\n",
       "    <tr>\n",
       "      <th>2</th>\n",
       "      <td>474.520</td>\n",
       "      <td>4.20190</td>\n",
       "      <td>0.0</td>\n",
       "      <td>6.0</td>\n",
       "    </tr>\n",
       "    <tr>\n",
       "      <th>3</th>\n",
       "      <td>468.557</td>\n",
       "      <td>4.43630</td>\n",
       "      <td>0.0</td>\n",
       "      <td>6.0</td>\n",
       "    </tr>\n",
       "    <tr>\n",
       "      <th>4</th>\n",
       "      <td>519.787</td>\n",
       "      <td>4.79192</td>\n",
       "      <td>1.0</td>\n",
       "      <td>9.0</td>\n",
       "    </tr>\n",
       "    <tr>\n",
       "      <th>...</th>\n",
       "      <td>...</td>\n",
       "      <td>...</td>\n",
       "      <td>...</td>\n",
       "      <td>...</td>\n",
       "    </tr>\n",
       "    <tr>\n",
       "      <th>1698</th>\n",
       "      <td>522.759</td>\n",
       "      <td>7.24280</td>\n",
       "      <td>2.0</td>\n",
       "      <td>4.0</td>\n",
       "    </tr>\n",
       "    <tr>\n",
       "      <th>1699</th>\n",
       "      <td>643.760</td>\n",
       "      <td>8.43080</td>\n",
       "      <td>2.0</td>\n",
       "      <td>6.0</td>\n",
       "    </tr>\n",
       "    <tr>\n",
       "      <th>1700</th>\n",
       "      <td>527.738</td>\n",
       "      <td>7.06380</td>\n",
       "      <td>2.0</td>\n",
       "      <td>4.0</td>\n",
       "    </tr>\n",
       "    <tr>\n",
       "      <th>1701</th>\n",
       "      <td>492.624</td>\n",
       "      <td>6.02160</td>\n",
       "      <td>1.0</td>\n",
       "      <td>7.0</td>\n",
       "    </tr>\n",
       "    <tr>\n",
       "      <th>1702</th>\n",
       "      <td>771.601</td>\n",
       "      <td>5.65380</td>\n",
       "      <td>1.0</td>\n",
       "      <td>11.0</td>\n",
       "    </tr>\n",
       "  </tbody>\n",
       "</table>\n",
       "<p>1703 rows × 4 columns</p>\n",
       "</div>"
      ],
      "text/plain": [
       "           MW     LogP  NumHDonors  NumHAcceptors\n",
       "0     511.538  4.24260         0.0            8.0\n",
       "1     466.541  4.33440         0.0            6.0\n",
       "2     474.520  4.20190         0.0            6.0\n",
       "3     468.557  4.43630         0.0            6.0\n",
       "4     519.787  4.79192         1.0            9.0\n",
       "...       ...      ...         ...            ...\n",
       "1698  522.759  7.24280         2.0            4.0\n",
       "1699  643.760  8.43080         2.0            6.0\n",
       "1700  527.738  7.06380         2.0            4.0\n",
       "1701  492.624  6.02160         1.0            7.0\n",
       "1702  771.601  5.65380         1.0           11.0\n",
       "\n",
       "[1703 rows x 4 columns]"
      ]
     },
     "execution_count": 8,
     "metadata": {},
     "output_type": "execute_result"
    }
   ],
   "source": [
    "df_lipinski"
   ]
  },
  {
   "cell_type": "code",
   "execution_count": 9,
   "id": "67014632",
   "metadata": {},
   "outputs": [
    {
     "data": {
      "text/html": [
       "<div>\n",
       "<style scoped>\n",
       "    .dataframe tbody tr th:only-of-type {\n",
       "        vertical-align: middle;\n",
       "    }\n",
       "\n",
       "    .dataframe tbody tr th {\n",
       "        vertical-align: top;\n",
       "    }\n",
       "\n",
       "    .dataframe thead th {\n",
       "        text-align: right;\n",
       "    }\n",
       "</style>\n",
       "<table border=\"1\" class=\"dataframe\">\n",
       "  <thead>\n",
       "    <tr style=\"text-align: right;\">\n",
       "      <th></th>\n",
       "      <th>mol_bdID</th>\n",
       "      <th>mol_smiles</th>\n",
       "      <th>bioactivity_class</th>\n",
       "      <th>mol_IC50</th>\n",
       "    </tr>\n",
       "  </thead>\n",
       "  <tbody>\n",
       "    <tr>\n",
       "      <th>0</th>\n",
       "      <td>50648002</td>\n",
       "      <td>O=C(Cn1c2c(c(=O)n3nc(-c4ccccc4)cc13)CN(C1CCCCC...</td>\n",
       "      <td>active</td>\n",
       "      <td>1.4</td>\n",
       "    </tr>\n",
       "    <tr>\n",
       "      <th>1</th>\n",
       "      <td>50648007</td>\n",
       "      <td>O=C(Cn1c2c(c(=O)n3nc(-c4ccccc4)cc13)CN(C1CCCCC...</td>\n",
       "      <td>active</td>\n",
       "      <td>1.7</td>\n",
       "    </tr>\n",
       "    <tr>\n",
       "      <th>2</th>\n",
       "      <td>50647999</td>\n",
       "      <td>O=C(Cn1c2c(c(=O)n3nc(-c4ccccc4)cc13)CN(Cc1cccc...</td>\n",
       "      <td>active</td>\n",
       "      <td>2.6</td>\n",
       "    </tr>\n",
       "    <tr>\n",
       "      <th>3</th>\n",
       "      <td>50648003</td>\n",
       "      <td>CC(C)CC(C)N1Cc2c(n(CC(=O)c3ccccc3)c3cc(-c4cccc...</td>\n",
       "      <td>active</td>\n",
       "      <td>3.0</td>\n",
       "    </tr>\n",
       "    <tr>\n",
       "      <th>4</th>\n",
       "      <td>51138741</td>\n",
       "      <td>CSc1cc(C)nc(SC)c1NC(=O)CN1CCN(CCSc2nc3ccccc3s2...</td>\n",
       "      <td>active</td>\n",
       "      <td>3.0</td>\n",
       "    </tr>\n",
       "    <tr>\n",
       "      <th>...</th>\n",
       "      <td>...</td>\n",
       "      <td>...</td>\n",
       "      <td>...</td>\n",
       "      <td>...</td>\n",
       "    </tr>\n",
       "    <tr>\n",
       "      <th>1698</th>\n",
       "      <td>50051759</td>\n",
       "      <td>CCCCCCCN(CCOCCSc1nc(-c2ccccc2)c(-c2ccccc2)[nH]...</td>\n",
       "      <td>active</td>\n",
       "      <td>190.0</td>\n",
       "    </tr>\n",
       "    <tr>\n",
       "      <th>1699</th>\n",
       "      <td>50004370</td>\n",
       "      <td>COc1ccc(-c2nc(SCCCCCN(Cc3ccccn3)C(=O)Nc3ccc(F)...</td>\n",
       "      <td>active</td>\n",
       "      <td>190.0</td>\n",
       "    </tr>\n",
       "    <tr>\n",
       "      <th>1700</th>\n",
       "      <td>50004374</td>\n",
       "      <td>CC(C)NC(=O)N(CCCCCSc1nc(-c2ccccc2)c(-c2ccccc2)...</td>\n",
       "      <td>active</td>\n",
       "      <td>190.0</td>\n",
       "    </tr>\n",
       "    <tr>\n",
       "      <th>1701</th>\n",
       "      <td>50004847</td>\n",
       "      <td>CCCCCCCCCCCCn1nnnc1C(NC(=O)c1cccc([N+](=O)[O-]...</td>\n",
       "      <td>active</td>\n",
       "      <td>190.0</td>\n",
       "    </tr>\n",
       "    <tr>\n",
       "      <th>1702</th>\n",
       "      <td>51053325</td>\n",
       "      <td>CC(=O)OC[C@@]1(C)[C@@H]2C[C@H](OC(=O)c3ccccc3I...</td>\n",
       "      <td>active</td>\n",
       "      <td>190.0</td>\n",
       "    </tr>\n",
       "  </tbody>\n",
       "</table>\n",
       "<p>1703 rows × 4 columns</p>\n",
       "</div>"
      ],
      "text/plain": [
       "      mol_bdID                                         mol_smiles  \\\n",
       "0     50648002  O=C(Cn1c2c(c(=O)n3nc(-c4ccccc4)cc13)CN(C1CCCCC...   \n",
       "1     50648007  O=C(Cn1c2c(c(=O)n3nc(-c4ccccc4)cc13)CN(C1CCCCC...   \n",
       "2     50647999  O=C(Cn1c2c(c(=O)n3nc(-c4ccccc4)cc13)CN(Cc1cccc...   \n",
       "3     50648003  CC(C)CC(C)N1Cc2c(n(CC(=O)c3ccccc3)c3cc(-c4cccc...   \n",
       "4     51138741  CSc1cc(C)nc(SC)c1NC(=O)CN1CCN(CCSc2nc3ccccc3s2...   \n",
       "...        ...                                                ...   \n",
       "1698  50051759  CCCCCCCN(CCOCCSc1nc(-c2ccccc2)c(-c2ccccc2)[nH]...   \n",
       "1699  50004370  COc1ccc(-c2nc(SCCCCCN(Cc3ccccn3)C(=O)Nc3ccc(F)...   \n",
       "1700  50004374  CC(C)NC(=O)N(CCCCCSc1nc(-c2ccccc2)c(-c2ccccc2)...   \n",
       "1701  50004847  CCCCCCCCCCCCn1nnnc1C(NC(=O)c1cccc([N+](=O)[O-]...   \n",
       "1702  51053325  CC(=O)OC[C@@]1(C)[C@@H]2C[C@H](OC(=O)c3ccccc3I...   \n",
       "\n",
       "     bioactivity_class  mol_IC50  \n",
       "0               active       1.4  \n",
       "1               active       1.7  \n",
       "2               active       2.6  \n",
       "3               active       3.0  \n",
       "4               active       3.0  \n",
       "...                ...       ...  \n",
       "1698            active     190.0  \n",
       "1699            active     190.0  \n",
       "1700            active     190.0  \n",
       "1701            active     190.0  \n",
       "1702            active     190.0  \n",
       "\n",
       "[1703 rows x 4 columns]"
      ]
     },
     "execution_count": 9,
     "metadata": {},
     "output_type": "execute_result"
    }
   ],
   "source": [
    "df"
   ]
  },
  {
   "cell_type": "code",
   "execution_count": 10,
   "id": "712f84aa",
   "metadata": {},
   "outputs": [],
   "source": [
    "df_combined = pd.concat([df,df_lipinski], axis=1)"
   ]
  },
  {
   "cell_type": "code",
   "execution_count": 11,
   "id": "e463517d",
   "metadata": {},
   "outputs": [
    {
     "data": {
      "text/html": [
       "<div>\n",
       "<style scoped>\n",
       "    .dataframe tbody tr th:only-of-type {\n",
       "        vertical-align: middle;\n",
       "    }\n",
       "\n",
       "    .dataframe tbody tr th {\n",
       "        vertical-align: top;\n",
       "    }\n",
       "\n",
       "    .dataframe thead th {\n",
       "        text-align: right;\n",
       "    }\n",
       "</style>\n",
       "<table border=\"1\" class=\"dataframe\">\n",
       "  <thead>\n",
       "    <tr style=\"text-align: right;\">\n",
       "      <th></th>\n",
       "      <th>mol_bdID</th>\n",
       "      <th>mol_smiles</th>\n",
       "      <th>bioactivity_class</th>\n",
       "      <th>mol_IC50</th>\n",
       "      <th>MW</th>\n",
       "      <th>LogP</th>\n",
       "      <th>NumHDonors</th>\n",
       "      <th>NumHAcceptors</th>\n",
       "    </tr>\n",
       "  </thead>\n",
       "  <tbody>\n",
       "    <tr>\n",
       "      <th>0</th>\n",
       "      <td>50648002</td>\n",
       "      <td>O=C(Cn1c2c(c(=O)n3nc(-c4ccccc4)cc13)CN(C1CCCCC...</td>\n",
       "      <td>active</td>\n",
       "      <td>1.4</td>\n",
       "      <td>511.538</td>\n",
       "      <td>4.24260</td>\n",
       "      <td>0.0</td>\n",
       "      <td>8.0</td>\n",
       "    </tr>\n",
       "    <tr>\n",
       "      <th>1</th>\n",
       "      <td>50648007</td>\n",
       "      <td>O=C(Cn1c2c(c(=O)n3nc(-c4ccccc4)cc13)CN(C1CCCCC...</td>\n",
       "      <td>active</td>\n",
       "      <td>1.7</td>\n",
       "      <td>466.541</td>\n",
       "      <td>4.33440</td>\n",
       "      <td>0.0</td>\n",
       "      <td>6.0</td>\n",
       "    </tr>\n",
       "    <tr>\n",
       "      <th>2</th>\n",
       "      <td>50647999</td>\n",
       "      <td>O=C(Cn1c2c(c(=O)n3nc(-c4ccccc4)cc13)CN(Cc1cccc...</td>\n",
       "      <td>active</td>\n",
       "      <td>2.6</td>\n",
       "      <td>474.520</td>\n",
       "      <td>4.20190</td>\n",
       "      <td>0.0</td>\n",
       "      <td>6.0</td>\n",
       "    </tr>\n",
       "    <tr>\n",
       "      <th>3</th>\n",
       "      <td>50648003</td>\n",
       "      <td>CC(C)CC(C)N1Cc2c(n(CC(=O)c3ccccc3)c3cc(-c4cccc...</td>\n",
       "      <td>active</td>\n",
       "      <td>3.0</td>\n",
       "      <td>468.557</td>\n",
       "      <td>4.43630</td>\n",
       "      <td>0.0</td>\n",
       "      <td>6.0</td>\n",
       "    </tr>\n",
       "    <tr>\n",
       "      <th>4</th>\n",
       "      <td>51138741</td>\n",
       "      <td>CSc1cc(C)nc(SC)c1NC(=O)CN1CCN(CCSc2nc3ccccc3s2...</td>\n",
       "      <td>active</td>\n",
       "      <td>3.0</td>\n",
       "      <td>519.787</td>\n",
       "      <td>4.79192</td>\n",
       "      <td>1.0</td>\n",
       "      <td>9.0</td>\n",
       "    </tr>\n",
       "    <tr>\n",
       "      <th>...</th>\n",
       "      <td>...</td>\n",
       "      <td>...</td>\n",
       "      <td>...</td>\n",
       "      <td>...</td>\n",
       "      <td>...</td>\n",
       "      <td>...</td>\n",
       "      <td>...</td>\n",
       "      <td>...</td>\n",
       "    </tr>\n",
       "    <tr>\n",
       "      <th>1698</th>\n",
       "      <td>50051759</td>\n",
       "      <td>CCCCCCCN(CCOCCSc1nc(-c2ccccc2)c(-c2ccccc2)[nH]...</td>\n",
       "      <td>active</td>\n",
       "      <td>190.0</td>\n",
       "      <td>522.759</td>\n",
       "      <td>7.24280</td>\n",
       "      <td>2.0</td>\n",
       "      <td>4.0</td>\n",
       "    </tr>\n",
       "    <tr>\n",
       "      <th>1699</th>\n",
       "      <td>50004370</td>\n",
       "      <td>COc1ccc(-c2nc(SCCCCCN(Cc3ccccn3)C(=O)Nc3ccc(F)...</td>\n",
       "      <td>active</td>\n",
       "      <td>190.0</td>\n",
       "      <td>643.760</td>\n",
       "      <td>8.43080</td>\n",
       "      <td>2.0</td>\n",
       "      <td>6.0</td>\n",
       "    </tr>\n",
       "    <tr>\n",
       "      <th>1700</th>\n",
       "      <td>50004374</td>\n",
       "      <td>CC(C)NC(=O)N(CCCCCSc1nc(-c2ccccc2)c(-c2ccccc2)...</td>\n",
       "      <td>active</td>\n",
       "      <td>190.0</td>\n",
       "      <td>527.738</td>\n",
       "      <td>7.06380</td>\n",
       "      <td>2.0</td>\n",
       "      <td>4.0</td>\n",
       "    </tr>\n",
       "    <tr>\n",
       "      <th>1701</th>\n",
       "      <td>50004847</td>\n",
       "      <td>CCCCCCCCCCCCn1nnnc1C(NC(=O)c1cccc([N+](=O)[O-]...</td>\n",
       "      <td>active</td>\n",
       "      <td>190.0</td>\n",
       "      <td>492.624</td>\n",
       "      <td>6.02160</td>\n",
       "      <td>1.0</td>\n",
       "      <td>7.0</td>\n",
       "    </tr>\n",
       "    <tr>\n",
       "      <th>1702</th>\n",
       "      <td>51053325</td>\n",
       "      <td>CC(=O)OC[C@@]1(C)[C@@H]2C[C@H](OC(=O)c3ccccc3I...</td>\n",
       "      <td>active</td>\n",
       "      <td>190.0</td>\n",
       "      <td>771.601</td>\n",
       "      <td>5.65380</td>\n",
       "      <td>1.0</td>\n",
       "      <td>11.0</td>\n",
       "    </tr>\n",
       "  </tbody>\n",
       "</table>\n",
       "<p>1703 rows × 8 columns</p>\n",
       "</div>"
      ],
      "text/plain": [
       "      mol_bdID                                         mol_smiles  \\\n",
       "0     50648002  O=C(Cn1c2c(c(=O)n3nc(-c4ccccc4)cc13)CN(C1CCCCC...   \n",
       "1     50648007  O=C(Cn1c2c(c(=O)n3nc(-c4ccccc4)cc13)CN(C1CCCCC...   \n",
       "2     50647999  O=C(Cn1c2c(c(=O)n3nc(-c4ccccc4)cc13)CN(Cc1cccc...   \n",
       "3     50648003  CC(C)CC(C)N1Cc2c(n(CC(=O)c3ccccc3)c3cc(-c4cccc...   \n",
       "4     51138741  CSc1cc(C)nc(SC)c1NC(=O)CN1CCN(CCSc2nc3ccccc3s2...   \n",
       "...        ...                                                ...   \n",
       "1698  50051759  CCCCCCCN(CCOCCSc1nc(-c2ccccc2)c(-c2ccccc2)[nH]...   \n",
       "1699  50004370  COc1ccc(-c2nc(SCCCCCN(Cc3ccccn3)C(=O)Nc3ccc(F)...   \n",
       "1700  50004374  CC(C)NC(=O)N(CCCCCSc1nc(-c2ccccc2)c(-c2ccccc2)...   \n",
       "1701  50004847  CCCCCCCCCCCCn1nnnc1C(NC(=O)c1cccc([N+](=O)[O-]...   \n",
       "1702  51053325  CC(=O)OC[C@@]1(C)[C@@H]2C[C@H](OC(=O)c3ccccc3I...   \n",
       "\n",
       "     bioactivity_class  mol_IC50       MW     LogP  NumHDonors  NumHAcceptors  \n",
       "0               active       1.4  511.538  4.24260         0.0            8.0  \n",
       "1               active       1.7  466.541  4.33440         0.0            6.0  \n",
       "2               active       2.6  474.520  4.20190         0.0            6.0  \n",
       "3               active       3.0  468.557  4.43630         0.0            6.0  \n",
       "4               active       3.0  519.787  4.79192         1.0            9.0  \n",
       "...                ...       ...      ...      ...         ...            ...  \n",
       "1698            active     190.0  522.759  7.24280         2.0            4.0  \n",
       "1699            active     190.0  643.760  8.43080         2.0            6.0  \n",
       "1700            active     190.0  527.738  7.06380         2.0            4.0  \n",
       "1701            active     190.0  492.624  6.02160         1.0            7.0  \n",
       "1702            active     190.0  771.601  5.65380         1.0           11.0  \n",
       "\n",
       "[1703 rows x 8 columns]"
      ]
     },
     "execution_count": 11,
     "metadata": {},
     "output_type": "execute_result"
    }
   ],
   "source": [
    "df_combined"
   ]
  },
  {
   "cell_type": "markdown",
   "id": "1ca2d7b1",
   "metadata": {},
   "source": [
    "### **Convert IC50 to pIC50**\n",
    "To allow **IC50** data to be more uniformly distributed, we will convert **IC50** to the negative logarithmic scale which is essentially **-log10(IC50)**.\n",
    "\n",
    "This custom function pIC50() will accept a DataFrame as input and will:\n",
    "* Take the IC50 values from the ``mol_IC50`` column and converts it from nM to M by multiplying the value by 10$^{-9}$\n",
    "* Take the molar value and apply -log10\n",
    "* Delete the ``mol_IC50`` column and create a new ``pIC50`` column"
   ]
  },
  {
   "cell_type": "code",
   "execution_count": 12,
   "id": "53630f6e",
   "metadata": {},
   "outputs": [],
   "source": [
    "import numpy as np\n",
    "\n",
    "def pIC50(input):\n",
    "    pIC50 = []\n",
    "\n",
    "    for i in input['mol_IC50_norm']:\n",
    "        molar = i*(10**-9) # Converts nM to M\n",
    "        pIC50.append(-np.log10(molar))\n",
    "\n",
    "    input['pIC50'] = pIC50\n",
    "    x = input.drop(columns='mol_IC50_norm')\n",
    "        \n",
    "    return x"
   ]
  },
  {
   "cell_type": "markdown",
   "id": "50e363e3",
   "metadata": {},
   "source": [
    "#### Point to note: Values greater than 100,000,000 will be fixed at 100,000,000 otherwise the negative logarithmic value will become negative."
   ]
  },
  {
   "cell_type": "code",
   "execution_count": 13,
   "id": "f5173eeb",
   "metadata": {},
   "outputs": [
    {
     "data": {
      "text/plain": [
       "count    1.703000e+03\n",
       "mean     1.943540e+04\n",
       "std      8.218189e+04\n",
       "min      1.400000e+00\n",
       "25%      1.600000e+02\n",
       "50%      1.200000e+03\n",
       "75%      1.000000e+04\n",
       "max      1.140000e+06\n",
       "Name: mol_IC50, dtype: float64"
      ]
     },
     "execution_count": 13,
     "metadata": {},
     "output_type": "execute_result"
    }
   ],
   "source": [
    "df_combined.mol_IC50.describe()"
   ]
  },
  {
   "cell_type": "code",
   "execution_count": 14,
   "id": "83653bf8",
   "metadata": {},
   "outputs": [
    {
     "data": {
      "text/plain": [
       "1.0"
      ]
     },
     "execution_count": 14,
     "metadata": {},
     "output_type": "execute_result"
    }
   ],
   "source": [
    "-np.log10( (10**-9)* 100000000 )"
   ]
  },
  {
   "cell_type": "code",
   "execution_count": 15,
   "id": "e9f8c63f",
   "metadata": {},
   "outputs": [
    {
     "data": {
      "text/plain": [
       "-1.0"
      ]
     },
     "execution_count": 15,
     "metadata": {},
     "output_type": "execute_result"
    }
   ],
   "source": [
    "-np.log10( (10**-9)* 10000000000 )"
   ]
  },
  {
   "cell_type": "code",
   "execution_count": 16,
   "id": "35f85742",
   "metadata": {},
   "outputs": [],
   "source": [
    "def norm_value(input):\n",
    "    norm = []\n",
    "\n",
    "    for i in input['mol_IC50']:\n",
    "        if i > 100000000:\n",
    "          i = 100000000\n",
    "        norm.append(i)\n",
    "\n",
    "    input['mol_IC50_norm'] = norm\n",
    "    x = input.drop(labels='mol_IC50', axis=1)\n",
    "        \n",
    "    return x"
   ]
  },
  {
   "cell_type": "markdown",
   "id": "fe274337",
   "metadata": {},
   "source": [
    "#### We will first apply the norm_value() function so that the values in the standard value of mol_IC50 column is normalized."
   ]
  },
  {
   "cell_type": "code",
   "execution_count": 17,
   "id": "9daa0323",
   "metadata": {},
   "outputs": [
    {
     "data": {
      "text/html": [
       "<div>\n",
       "<style scoped>\n",
       "    .dataframe tbody tr th:only-of-type {\n",
       "        vertical-align: middle;\n",
       "    }\n",
       "\n",
       "    .dataframe tbody tr th {\n",
       "        vertical-align: top;\n",
       "    }\n",
       "\n",
       "    .dataframe thead th {\n",
       "        text-align: right;\n",
       "    }\n",
       "</style>\n",
       "<table border=\"1\" class=\"dataframe\">\n",
       "  <thead>\n",
       "    <tr style=\"text-align: right;\">\n",
       "      <th></th>\n",
       "      <th>mol_bdID</th>\n",
       "      <th>mol_smiles</th>\n",
       "      <th>bioactivity_class</th>\n",
       "      <th>MW</th>\n",
       "      <th>LogP</th>\n",
       "      <th>NumHDonors</th>\n",
       "      <th>NumHAcceptors</th>\n",
       "      <th>mol_IC50_norm</th>\n",
       "    </tr>\n",
       "  </thead>\n",
       "  <tbody>\n",
       "    <tr>\n",
       "      <th>0</th>\n",
       "      <td>50648002</td>\n",
       "      <td>O=C(Cn1c2c(c(=O)n3nc(-c4ccccc4)cc13)CN(C1CCCCC...</td>\n",
       "      <td>active</td>\n",
       "      <td>511.538</td>\n",
       "      <td>4.24260</td>\n",
       "      <td>0.0</td>\n",
       "      <td>8.0</td>\n",
       "      <td>1.4</td>\n",
       "    </tr>\n",
       "    <tr>\n",
       "      <th>1</th>\n",
       "      <td>50648007</td>\n",
       "      <td>O=C(Cn1c2c(c(=O)n3nc(-c4ccccc4)cc13)CN(C1CCCCC...</td>\n",
       "      <td>active</td>\n",
       "      <td>466.541</td>\n",
       "      <td>4.33440</td>\n",
       "      <td>0.0</td>\n",
       "      <td>6.0</td>\n",
       "      <td>1.7</td>\n",
       "    </tr>\n",
       "    <tr>\n",
       "      <th>2</th>\n",
       "      <td>50647999</td>\n",
       "      <td>O=C(Cn1c2c(c(=O)n3nc(-c4ccccc4)cc13)CN(Cc1cccc...</td>\n",
       "      <td>active</td>\n",
       "      <td>474.520</td>\n",
       "      <td>4.20190</td>\n",
       "      <td>0.0</td>\n",
       "      <td>6.0</td>\n",
       "      <td>2.6</td>\n",
       "    </tr>\n",
       "    <tr>\n",
       "      <th>3</th>\n",
       "      <td>50648003</td>\n",
       "      <td>CC(C)CC(C)N1Cc2c(n(CC(=O)c3ccccc3)c3cc(-c4cccc...</td>\n",
       "      <td>active</td>\n",
       "      <td>468.557</td>\n",
       "      <td>4.43630</td>\n",
       "      <td>0.0</td>\n",
       "      <td>6.0</td>\n",
       "      <td>3.0</td>\n",
       "    </tr>\n",
       "    <tr>\n",
       "      <th>4</th>\n",
       "      <td>51138741</td>\n",
       "      <td>CSc1cc(C)nc(SC)c1NC(=O)CN1CCN(CCSc2nc3ccccc3s2...</td>\n",
       "      <td>active</td>\n",
       "      <td>519.787</td>\n",
       "      <td>4.79192</td>\n",
       "      <td>1.0</td>\n",
       "      <td>9.0</td>\n",
       "      <td>3.0</td>\n",
       "    </tr>\n",
       "    <tr>\n",
       "      <th>...</th>\n",
       "      <td>...</td>\n",
       "      <td>...</td>\n",
       "      <td>...</td>\n",
       "      <td>...</td>\n",
       "      <td>...</td>\n",
       "      <td>...</td>\n",
       "      <td>...</td>\n",
       "      <td>...</td>\n",
       "    </tr>\n",
       "    <tr>\n",
       "      <th>1698</th>\n",
       "      <td>50051759</td>\n",
       "      <td>CCCCCCCN(CCOCCSc1nc(-c2ccccc2)c(-c2ccccc2)[nH]...</td>\n",
       "      <td>active</td>\n",
       "      <td>522.759</td>\n",
       "      <td>7.24280</td>\n",
       "      <td>2.0</td>\n",
       "      <td>4.0</td>\n",
       "      <td>190.0</td>\n",
       "    </tr>\n",
       "    <tr>\n",
       "      <th>1699</th>\n",
       "      <td>50004370</td>\n",
       "      <td>COc1ccc(-c2nc(SCCCCCN(Cc3ccccn3)C(=O)Nc3ccc(F)...</td>\n",
       "      <td>active</td>\n",
       "      <td>643.760</td>\n",
       "      <td>8.43080</td>\n",
       "      <td>2.0</td>\n",
       "      <td>6.0</td>\n",
       "      <td>190.0</td>\n",
       "    </tr>\n",
       "    <tr>\n",
       "      <th>1700</th>\n",
       "      <td>50004374</td>\n",
       "      <td>CC(C)NC(=O)N(CCCCCSc1nc(-c2ccccc2)c(-c2ccccc2)...</td>\n",
       "      <td>active</td>\n",
       "      <td>527.738</td>\n",
       "      <td>7.06380</td>\n",
       "      <td>2.0</td>\n",
       "      <td>4.0</td>\n",
       "      <td>190.0</td>\n",
       "    </tr>\n",
       "    <tr>\n",
       "      <th>1701</th>\n",
       "      <td>50004847</td>\n",
       "      <td>CCCCCCCCCCCCn1nnnc1C(NC(=O)c1cccc([N+](=O)[O-]...</td>\n",
       "      <td>active</td>\n",
       "      <td>492.624</td>\n",
       "      <td>6.02160</td>\n",
       "      <td>1.0</td>\n",
       "      <td>7.0</td>\n",
       "      <td>190.0</td>\n",
       "    </tr>\n",
       "    <tr>\n",
       "      <th>1702</th>\n",
       "      <td>51053325</td>\n",
       "      <td>CC(=O)OC[C@@]1(C)[C@@H]2C[C@H](OC(=O)c3ccccc3I...</td>\n",
       "      <td>active</td>\n",
       "      <td>771.601</td>\n",
       "      <td>5.65380</td>\n",
       "      <td>1.0</td>\n",
       "      <td>11.0</td>\n",
       "      <td>190.0</td>\n",
       "    </tr>\n",
       "  </tbody>\n",
       "</table>\n",
       "<p>1703 rows × 8 columns</p>\n",
       "</div>"
      ],
      "text/plain": [
       "      mol_bdID                                         mol_smiles  \\\n",
       "0     50648002  O=C(Cn1c2c(c(=O)n3nc(-c4ccccc4)cc13)CN(C1CCCCC...   \n",
       "1     50648007  O=C(Cn1c2c(c(=O)n3nc(-c4ccccc4)cc13)CN(C1CCCCC...   \n",
       "2     50647999  O=C(Cn1c2c(c(=O)n3nc(-c4ccccc4)cc13)CN(Cc1cccc...   \n",
       "3     50648003  CC(C)CC(C)N1Cc2c(n(CC(=O)c3ccccc3)c3cc(-c4cccc...   \n",
       "4     51138741  CSc1cc(C)nc(SC)c1NC(=O)CN1CCN(CCSc2nc3ccccc3s2...   \n",
       "...        ...                                                ...   \n",
       "1698  50051759  CCCCCCCN(CCOCCSc1nc(-c2ccccc2)c(-c2ccccc2)[nH]...   \n",
       "1699  50004370  COc1ccc(-c2nc(SCCCCCN(Cc3ccccn3)C(=O)Nc3ccc(F)...   \n",
       "1700  50004374  CC(C)NC(=O)N(CCCCCSc1nc(-c2ccccc2)c(-c2ccccc2)...   \n",
       "1701  50004847  CCCCCCCCCCCCn1nnnc1C(NC(=O)c1cccc([N+](=O)[O-]...   \n",
       "1702  51053325  CC(=O)OC[C@@]1(C)[C@@H]2C[C@H](OC(=O)c3ccccc3I...   \n",
       "\n",
       "     bioactivity_class       MW     LogP  NumHDonors  NumHAcceptors  \\\n",
       "0               active  511.538  4.24260         0.0            8.0   \n",
       "1               active  466.541  4.33440         0.0            6.0   \n",
       "2               active  474.520  4.20190         0.0            6.0   \n",
       "3               active  468.557  4.43630         0.0            6.0   \n",
       "4               active  519.787  4.79192         1.0            9.0   \n",
       "...                ...      ...      ...         ...            ...   \n",
       "1698            active  522.759  7.24280         2.0            4.0   \n",
       "1699            active  643.760  8.43080         2.0            6.0   \n",
       "1700            active  527.738  7.06380         2.0            4.0   \n",
       "1701            active  492.624  6.02160         1.0            7.0   \n",
       "1702            active  771.601  5.65380         1.0           11.0   \n",
       "\n",
       "      mol_IC50_norm  \n",
       "0               1.4  \n",
       "1               1.7  \n",
       "2               2.6  \n",
       "3               3.0  \n",
       "4               3.0  \n",
       "...             ...  \n",
       "1698          190.0  \n",
       "1699          190.0  \n",
       "1700          190.0  \n",
       "1701          190.0  \n",
       "1702          190.0  \n",
       "\n",
       "[1703 rows x 8 columns]"
      ]
     },
     "execution_count": 17,
     "metadata": {},
     "output_type": "execute_result"
    }
   ],
   "source": [
    "df_norm = norm_value(df_combined)\n",
    "df_norm"
   ]
  },
  {
   "cell_type": "code",
   "execution_count": 18,
   "id": "f8a28411",
   "metadata": {},
   "outputs": [
    {
     "data": {
      "text/plain": [
       "count    1.703000e+03\n",
       "mean     1.943540e+04\n",
       "std      8.218189e+04\n",
       "min      1.400000e+00\n",
       "25%      1.600000e+02\n",
       "50%      1.200000e+03\n",
       "75%      1.000000e+04\n",
       "max      1.140000e+06\n",
       "Name: mol_IC50_norm, dtype: float64"
      ]
     },
     "execution_count": 18,
     "metadata": {},
     "output_type": "execute_result"
    }
   ],
   "source": [
    "df_norm.mol_IC50_norm.describe()"
   ]
  },
  {
   "cell_type": "code",
   "execution_count": 19,
   "id": "5a79ca32",
   "metadata": {},
   "outputs": [
    {
     "data": {
      "text/html": [
       "<div>\n",
       "<style scoped>\n",
       "    .dataframe tbody tr th:only-of-type {\n",
       "        vertical-align: middle;\n",
       "    }\n",
       "\n",
       "    .dataframe tbody tr th {\n",
       "        vertical-align: top;\n",
       "    }\n",
       "\n",
       "    .dataframe thead th {\n",
       "        text-align: right;\n",
       "    }\n",
       "</style>\n",
       "<table border=\"1\" class=\"dataframe\">\n",
       "  <thead>\n",
       "    <tr style=\"text-align: right;\">\n",
       "      <th></th>\n",
       "      <th>mol_bdID</th>\n",
       "      <th>mol_smiles</th>\n",
       "      <th>bioactivity_class</th>\n",
       "      <th>MW</th>\n",
       "      <th>LogP</th>\n",
       "      <th>NumHDonors</th>\n",
       "      <th>NumHAcceptors</th>\n",
       "      <th>pIC50</th>\n",
       "    </tr>\n",
       "  </thead>\n",
       "  <tbody>\n",
       "    <tr>\n",
       "      <th>0</th>\n",
       "      <td>50648002</td>\n",
       "      <td>O=C(Cn1c2c(c(=O)n3nc(-c4ccccc4)cc13)CN(C1CCCCC...</td>\n",
       "      <td>active</td>\n",
       "      <td>511.538</td>\n",
       "      <td>4.24260</td>\n",
       "      <td>0.0</td>\n",
       "      <td>8.0</td>\n",
       "      <td>8.853872</td>\n",
       "    </tr>\n",
       "    <tr>\n",
       "      <th>1</th>\n",
       "      <td>50648007</td>\n",
       "      <td>O=C(Cn1c2c(c(=O)n3nc(-c4ccccc4)cc13)CN(C1CCCCC...</td>\n",
       "      <td>active</td>\n",
       "      <td>466.541</td>\n",
       "      <td>4.33440</td>\n",
       "      <td>0.0</td>\n",
       "      <td>6.0</td>\n",
       "      <td>8.769551</td>\n",
       "    </tr>\n",
       "    <tr>\n",
       "      <th>2</th>\n",
       "      <td>50647999</td>\n",
       "      <td>O=C(Cn1c2c(c(=O)n3nc(-c4ccccc4)cc13)CN(Cc1cccc...</td>\n",
       "      <td>active</td>\n",
       "      <td>474.520</td>\n",
       "      <td>4.20190</td>\n",
       "      <td>0.0</td>\n",
       "      <td>6.0</td>\n",
       "      <td>8.585027</td>\n",
       "    </tr>\n",
       "    <tr>\n",
       "      <th>3</th>\n",
       "      <td>50648003</td>\n",
       "      <td>CC(C)CC(C)N1Cc2c(n(CC(=O)c3ccccc3)c3cc(-c4cccc...</td>\n",
       "      <td>active</td>\n",
       "      <td>468.557</td>\n",
       "      <td>4.43630</td>\n",
       "      <td>0.0</td>\n",
       "      <td>6.0</td>\n",
       "      <td>8.522879</td>\n",
       "    </tr>\n",
       "    <tr>\n",
       "      <th>4</th>\n",
       "      <td>51138741</td>\n",
       "      <td>CSc1cc(C)nc(SC)c1NC(=O)CN1CCN(CCSc2nc3ccccc3s2...</td>\n",
       "      <td>active</td>\n",
       "      <td>519.787</td>\n",
       "      <td>4.79192</td>\n",
       "      <td>1.0</td>\n",
       "      <td>9.0</td>\n",
       "      <td>8.522879</td>\n",
       "    </tr>\n",
       "    <tr>\n",
       "      <th>...</th>\n",
       "      <td>...</td>\n",
       "      <td>...</td>\n",
       "      <td>...</td>\n",
       "      <td>...</td>\n",
       "      <td>...</td>\n",
       "      <td>...</td>\n",
       "      <td>...</td>\n",
       "      <td>...</td>\n",
       "    </tr>\n",
       "    <tr>\n",
       "      <th>1698</th>\n",
       "      <td>50051759</td>\n",
       "      <td>CCCCCCCN(CCOCCSc1nc(-c2ccccc2)c(-c2ccccc2)[nH]...</td>\n",
       "      <td>active</td>\n",
       "      <td>522.759</td>\n",
       "      <td>7.24280</td>\n",
       "      <td>2.0</td>\n",
       "      <td>4.0</td>\n",
       "      <td>6.721246</td>\n",
       "    </tr>\n",
       "    <tr>\n",
       "      <th>1699</th>\n",
       "      <td>50004370</td>\n",
       "      <td>COc1ccc(-c2nc(SCCCCCN(Cc3ccccn3)C(=O)Nc3ccc(F)...</td>\n",
       "      <td>active</td>\n",
       "      <td>643.760</td>\n",
       "      <td>8.43080</td>\n",
       "      <td>2.0</td>\n",
       "      <td>6.0</td>\n",
       "      <td>6.721246</td>\n",
       "    </tr>\n",
       "    <tr>\n",
       "      <th>1700</th>\n",
       "      <td>50004374</td>\n",
       "      <td>CC(C)NC(=O)N(CCCCCSc1nc(-c2ccccc2)c(-c2ccccc2)...</td>\n",
       "      <td>active</td>\n",
       "      <td>527.738</td>\n",
       "      <td>7.06380</td>\n",
       "      <td>2.0</td>\n",
       "      <td>4.0</td>\n",
       "      <td>6.721246</td>\n",
       "    </tr>\n",
       "    <tr>\n",
       "      <th>1701</th>\n",
       "      <td>50004847</td>\n",
       "      <td>CCCCCCCCCCCCn1nnnc1C(NC(=O)c1cccc([N+](=O)[O-]...</td>\n",
       "      <td>active</td>\n",
       "      <td>492.624</td>\n",
       "      <td>6.02160</td>\n",
       "      <td>1.0</td>\n",
       "      <td>7.0</td>\n",
       "      <td>6.721246</td>\n",
       "    </tr>\n",
       "    <tr>\n",
       "      <th>1702</th>\n",
       "      <td>51053325</td>\n",
       "      <td>CC(=O)OC[C@@]1(C)[C@@H]2C[C@H](OC(=O)c3ccccc3I...</td>\n",
       "      <td>active</td>\n",
       "      <td>771.601</td>\n",
       "      <td>5.65380</td>\n",
       "      <td>1.0</td>\n",
       "      <td>11.0</td>\n",
       "      <td>6.721246</td>\n",
       "    </tr>\n",
       "  </tbody>\n",
       "</table>\n",
       "<p>1703 rows × 8 columns</p>\n",
       "</div>"
      ],
      "text/plain": [
       "      mol_bdID                                         mol_smiles  \\\n",
       "0     50648002  O=C(Cn1c2c(c(=O)n3nc(-c4ccccc4)cc13)CN(C1CCCCC...   \n",
       "1     50648007  O=C(Cn1c2c(c(=O)n3nc(-c4ccccc4)cc13)CN(C1CCCCC...   \n",
       "2     50647999  O=C(Cn1c2c(c(=O)n3nc(-c4ccccc4)cc13)CN(Cc1cccc...   \n",
       "3     50648003  CC(C)CC(C)N1Cc2c(n(CC(=O)c3ccccc3)c3cc(-c4cccc...   \n",
       "4     51138741  CSc1cc(C)nc(SC)c1NC(=O)CN1CCN(CCSc2nc3ccccc3s2...   \n",
       "...        ...                                                ...   \n",
       "1698  50051759  CCCCCCCN(CCOCCSc1nc(-c2ccccc2)c(-c2ccccc2)[nH]...   \n",
       "1699  50004370  COc1ccc(-c2nc(SCCCCCN(Cc3ccccn3)C(=O)Nc3ccc(F)...   \n",
       "1700  50004374  CC(C)NC(=O)N(CCCCCSc1nc(-c2ccccc2)c(-c2ccccc2)...   \n",
       "1701  50004847  CCCCCCCCCCCCn1nnnc1C(NC(=O)c1cccc([N+](=O)[O-]...   \n",
       "1702  51053325  CC(=O)OC[C@@]1(C)[C@@H]2C[C@H](OC(=O)c3ccccc3I...   \n",
       "\n",
       "     bioactivity_class       MW     LogP  NumHDonors  NumHAcceptors     pIC50  \n",
       "0               active  511.538  4.24260         0.0            8.0  8.853872  \n",
       "1               active  466.541  4.33440         0.0            6.0  8.769551  \n",
       "2               active  474.520  4.20190         0.0            6.0  8.585027  \n",
       "3               active  468.557  4.43630         0.0            6.0  8.522879  \n",
       "4               active  519.787  4.79192         1.0            9.0  8.522879  \n",
       "...                ...      ...      ...         ...            ...       ...  \n",
       "1698            active  522.759  7.24280         2.0            4.0  6.721246  \n",
       "1699            active  643.760  8.43080         2.0            6.0  6.721246  \n",
       "1700            active  527.738  7.06380         2.0            4.0  6.721246  \n",
       "1701            active  492.624  6.02160         1.0            7.0  6.721246  \n",
       "1702            active  771.601  5.65380         1.0           11.0  6.721246  \n",
       "\n",
       "[1703 rows x 8 columns]"
      ]
     },
     "execution_count": 19,
     "metadata": {},
     "output_type": "execute_result"
    }
   ],
   "source": [
    "df_final = pIC50(df_norm)\n",
    "df_final"
   ]
  },
  {
   "cell_type": "code",
   "execution_count": 20,
   "id": "df1a2636",
   "metadata": {},
   "outputs": [
    {
     "data": {
      "text/plain": [
       "count    1703.000000\n",
       "mean        5.900156\n",
       "std         1.141998\n",
       "min         2.943095\n",
       "25%         5.000000\n",
       "50%         5.920819\n",
       "75%         6.795880\n",
       "max         8.853872\n",
       "Name: pIC50, dtype: float64"
      ]
     },
     "execution_count": 20,
     "metadata": {},
     "output_type": "execute_result"
    }
   ],
   "source": [
    "df_final.pIC50.describe()"
   ]
  },
  {
   "cell_type": "code",
   "execution_count": 21,
   "id": "537de8e0",
   "metadata": {},
   "outputs": [],
   "source": [
    "df_final.to_csv('soat_1_bioa_data_preprocessed.csv', index=False)"
   ]
  },
  {
   "cell_type": "code",
   "execution_count": 22,
   "id": "e087ee25",
   "metadata": {},
   "outputs": [
    {
     "name": "stdout",
     "output_type": "stream",
     "text": [
      "total 58280\r\n",
      "-rw-r--r--@  1 akrikhalid  staff     16872 May 29 14:44 IC50.csv\r\n",
      "-rw-r--r--   1 akrikhalid  staff   3041472 May 29 14:36 Output3_Sterol O-acyltransferase 1 inhibitors 1703.csv\r\n",
      "drwxr-xr-x   2 akrikhalid  staff        64 May 29 14:22 \u001b[34mPDFs\u001b[m\u001b[m\r\n",
      "drwxr-xr-x  21 akrikhalid  staff       672 May 24 13:06 \u001b[34mPaDel-Descriptor\u001b[m\u001b[m\r\n",
      "-rw-r--r--@  1 akrikhalid  staff       231 May 24 10:18 PaDel-Descriptor.sh\r\n",
      "-rw-r--r--@  1 akrikhalid  staff    211058 May 29 10:05 PaDel-Descriptor.zip\r\n",
      "-rw-r--r--@  1 akrikhalid  staff    129784 May 29 16:15 Sterol O-acyltransferase 1 inhibitors 1703 Part 01.ipynb\r\n",
      "-rw-r--r--@  1 akrikhalid  staff    250828 May 29 16:17 Sterol O-acyltransferase 1 inhibitors 1703 Part 02.ipynb\r\n",
      "-rw-r--r--@  1 akrikhalid  staff     89689 May 29 10:53 Sterol O-acyltransferase 1 inhibitors 1703 Part 03.ipynb\r\n",
      "-rw-r--r--@  1 akrikhalid  staff     76160 May 29 11:06 Sterol O-acyltransferase 1 inhibitors 1703 Part 04.ipynb\r\n",
      "-rw-r--r--@  1 akrikhalid  staff  11072364 May 28 23:26 Sterol O-acyltransferase 1 inhibitors 1703.sdf\r\n",
      "-rw-r--r--@  1 akrikhalid  staff   2944490 May 29 14:35 Sterol O-acyltransferase 1 inhibitors 1703.tsv\r\n",
      "-rw-r--r--@  1 akrikhalid  staff   6409744 May 28 23:24 Sterol O-acyltransferase 1 inhibitors 918.sdf\r\n",
      "-rw-r--r--   1 akrikhalid  staff     35645 May 29 00:14 Sterol_O-acyltransferase_1_Inhibitors_Project.ipynb\r\n",
      "-rw-r--r--@  1 akrikhalid  staff    563191 May 29 11:20 Sterol_O_acyltransferase 2 inhibitors 1703 Part 05.ipynb\r\n",
      "-rw-r--r--   1 akrikhalid  staff    148542 May 29 16:13 final_output.csv\r\n",
      "-rw-r--r--   1 akrikhalid  staff    108742 May 29 14:51 output2_Sterol O-acyltransferase 1 inhibitors 1703.csv\r\n",
      "-rw-r--r--   1 akrikhalid  staff   2940961 May 29 14:29 output_Sterol O-acyltransferase 1 inhibitors 1703.csv\r\n",
      "-rw-r--r--   1 akrikhalid  staff    240219 May 29 16:17 soat_1_bioa_data_preprocessed.csv\r\n"
     ]
    }
   ],
   "source": [
    "! ls -l"
   ]
  },
  {
   "cell_type": "markdown",
   "id": "e6aafcca",
   "metadata": {},
   "source": [
    "### **Removing the 'intermediate' bioactivity class**\n",
    "Here, we will be removing the ``intermediate`` class from our data set."
   ]
  },
  {
   "cell_type": "code",
   "execution_count": 39,
   "id": "8d5b106f",
   "metadata": {},
   "outputs": [
    {
     "data": {
      "text/html": [
       "<div>\n",
       "<style scoped>\n",
       "    .dataframe tbody tr th:only-of-type {\n",
       "        vertical-align: middle;\n",
       "    }\n",
       "\n",
       "    .dataframe tbody tr th {\n",
       "        vertical-align: top;\n",
       "    }\n",
       "\n",
       "    .dataframe thead th {\n",
       "        text-align: right;\n",
       "    }\n",
       "</style>\n",
       "<table border=\"1\" class=\"dataframe\">\n",
       "  <thead>\n",
       "    <tr style=\"text-align: right;\">\n",
       "      <th></th>\n",
       "      <th>mol_bdID</th>\n",
       "      <th>mol_smiles</th>\n",
       "      <th>bioactivity_class</th>\n",
       "      <th>MW</th>\n",
       "      <th>LogP</th>\n",
       "      <th>NumHDonors</th>\n",
       "      <th>NumHAcceptors</th>\n",
       "      <th>pIC50</th>\n",
       "    </tr>\n",
       "  </thead>\n",
       "  <tbody>\n",
       "    <tr>\n",
       "      <th>0</th>\n",
       "      <td>50648002</td>\n",
       "      <td>O=C(Cn1c2c(c(=O)n3nc(-c4ccccc4)cc13)CN(C1CCCCC...</td>\n",
       "      <td>active</td>\n",
       "      <td>511.538</td>\n",
       "      <td>4.24260</td>\n",
       "      <td>0.0</td>\n",
       "      <td>8.0</td>\n",
       "      <td>8.853872</td>\n",
       "    </tr>\n",
       "    <tr>\n",
       "      <th>1</th>\n",
       "      <td>50648007</td>\n",
       "      <td>O=C(Cn1c2c(c(=O)n3nc(-c4ccccc4)cc13)CN(C1CCCCC...</td>\n",
       "      <td>active</td>\n",
       "      <td>466.541</td>\n",
       "      <td>4.33440</td>\n",
       "      <td>0.0</td>\n",
       "      <td>6.0</td>\n",
       "      <td>8.769551</td>\n",
       "    </tr>\n",
       "    <tr>\n",
       "      <th>2</th>\n",
       "      <td>50647999</td>\n",
       "      <td>O=C(Cn1c2c(c(=O)n3nc(-c4ccccc4)cc13)CN(Cc1cccc...</td>\n",
       "      <td>active</td>\n",
       "      <td>474.520</td>\n",
       "      <td>4.20190</td>\n",
       "      <td>0.0</td>\n",
       "      <td>6.0</td>\n",
       "      <td>8.585027</td>\n",
       "    </tr>\n",
       "    <tr>\n",
       "      <th>3</th>\n",
       "      <td>50648003</td>\n",
       "      <td>CC(C)CC(C)N1Cc2c(n(CC(=O)c3ccccc3)c3cc(-c4cccc...</td>\n",
       "      <td>active</td>\n",
       "      <td>468.557</td>\n",
       "      <td>4.43630</td>\n",
       "      <td>0.0</td>\n",
       "      <td>6.0</td>\n",
       "      <td>8.522879</td>\n",
       "    </tr>\n",
       "    <tr>\n",
       "      <th>4</th>\n",
       "      <td>51138741</td>\n",
       "      <td>CSc1cc(C)nc(SC)c1NC(=O)CN1CCN(CCSc2nc3ccccc3s2...</td>\n",
       "      <td>active</td>\n",
       "      <td>519.787</td>\n",
       "      <td>4.79192</td>\n",
       "      <td>1.0</td>\n",
       "      <td>9.0</td>\n",
       "      <td>8.522879</td>\n",
       "    </tr>\n",
       "    <tr>\n",
       "      <th>...</th>\n",
       "      <td>...</td>\n",
       "      <td>...</td>\n",
       "      <td>...</td>\n",
       "      <td>...</td>\n",
       "      <td>...</td>\n",
       "      <td>...</td>\n",
       "      <td>...</td>\n",
       "      <td>...</td>\n",
       "    </tr>\n",
       "    <tr>\n",
       "      <th>1698</th>\n",
       "      <td>50051759</td>\n",
       "      <td>CCCCCCCN(CCOCCSc1nc(-c2ccccc2)c(-c2ccccc2)[nH]...</td>\n",
       "      <td>active</td>\n",
       "      <td>522.759</td>\n",
       "      <td>7.24280</td>\n",
       "      <td>2.0</td>\n",
       "      <td>4.0</td>\n",
       "      <td>6.721246</td>\n",
       "    </tr>\n",
       "    <tr>\n",
       "      <th>1699</th>\n",
       "      <td>50004370</td>\n",
       "      <td>COc1ccc(-c2nc(SCCCCCN(Cc3ccccn3)C(=O)Nc3ccc(F)...</td>\n",
       "      <td>active</td>\n",
       "      <td>643.760</td>\n",
       "      <td>8.43080</td>\n",
       "      <td>2.0</td>\n",
       "      <td>6.0</td>\n",
       "      <td>6.721246</td>\n",
       "    </tr>\n",
       "    <tr>\n",
       "      <th>1700</th>\n",
       "      <td>50004374</td>\n",
       "      <td>CC(C)NC(=O)N(CCCCCSc1nc(-c2ccccc2)c(-c2ccccc2)...</td>\n",
       "      <td>active</td>\n",
       "      <td>527.738</td>\n",
       "      <td>7.06380</td>\n",
       "      <td>2.0</td>\n",
       "      <td>4.0</td>\n",
       "      <td>6.721246</td>\n",
       "    </tr>\n",
       "    <tr>\n",
       "      <th>1701</th>\n",
       "      <td>50004847</td>\n",
       "      <td>CCCCCCCCCCCCn1nnnc1C(NC(=O)c1cccc([N+](=O)[O-]...</td>\n",
       "      <td>active</td>\n",
       "      <td>492.624</td>\n",
       "      <td>6.02160</td>\n",
       "      <td>1.0</td>\n",
       "      <td>7.0</td>\n",
       "      <td>6.721246</td>\n",
       "    </tr>\n",
       "    <tr>\n",
       "      <th>1702</th>\n",
       "      <td>51053325</td>\n",
       "      <td>CC(=O)OC[C@@]1(C)[C@@H]2C[C@H](OC(=O)c3ccccc3I...</td>\n",
       "      <td>active</td>\n",
       "      <td>771.601</td>\n",
       "      <td>5.65380</td>\n",
       "      <td>1.0</td>\n",
       "      <td>11.0</td>\n",
       "      <td>6.721246</td>\n",
       "    </tr>\n",
       "  </tbody>\n",
       "</table>\n",
       "<p>1275 rows × 8 columns</p>\n",
       "</div>"
      ],
      "text/plain": [
       "      mol_bdID                                         mol_smiles  \\\n",
       "0     50648002  O=C(Cn1c2c(c(=O)n3nc(-c4ccccc4)cc13)CN(C1CCCCC...   \n",
       "1     50648007  O=C(Cn1c2c(c(=O)n3nc(-c4ccccc4)cc13)CN(C1CCCCC...   \n",
       "2     50647999  O=C(Cn1c2c(c(=O)n3nc(-c4ccccc4)cc13)CN(Cc1cccc...   \n",
       "3     50648003  CC(C)CC(C)N1Cc2c(n(CC(=O)c3ccccc3)c3cc(-c4cccc...   \n",
       "4     51138741  CSc1cc(C)nc(SC)c1NC(=O)CN1CCN(CCSc2nc3ccccc3s2...   \n",
       "...        ...                                                ...   \n",
       "1698  50051759  CCCCCCCN(CCOCCSc1nc(-c2ccccc2)c(-c2ccccc2)[nH]...   \n",
       "1699  50004370  COc1ccc(-c2nc(SCCCCCN(Cc3ccccn3)C(=O)Nc3ccc(F)...   \n",
       "1700  50004374  CC(C)NC(=O)N(CCCCCSc1nc(-c2ccccc2)c(-c2ccccc2)...   \n",
       "1701  50004847  CCCCCCCCCCCCn1nnnc1C(NC(=O)c1cccc([N+](=O)[O-]...   \n",
       "1702  51053325  CC(=O)OC[C@@]1(C)[C@@H]2C[C@H](OC(=O)c3ccccc3I...   \n",
       "\n",
       "     bioactivity_class       MW     LogP  NumHDonors  NumHAcceptors     pIC50  \n",
       "0               active  511.538  4.24260         0.0            8.0  8.853872  \n",
       "1               active  466.541  4.33440         0.0            6.0  8.769551  \n",
       "2               active  474.520  4.20190         0.0            6.0  8.585027  \n",
       "3               active  468.557  4.43630         0.0            6.0  8.522879  \n",
       "4               active  519.787  4.79192         1.0            9.0  8.522879  \n",
       "...                ...      ...      ...         ...            ...       ...  \n",
       "1698            active  522.759  7.24280         2.0            4.0  6.721246  \n",
       "1699            active  643.760  8.43080         2.0            6.0  6.721246  \n",
       "1700            active  527.738  7.06380         2.0            4.0  6.721246  \n",
       "1701            active  492.624  6.02160         1.0            7.0  6.721246  \n",
       "1702            active  771.601  5.65380         1.0           11.0  6.721246  \n",
       "\n",
       "[1275 rows x 8 columns]"
      ]
     },
     "execution_count": 39,
     "metadata": {},
     "output_type": "execute_result"
    }
   ],
   "source": [
    "df_2class = df_final[df_final.bioactivity_class != 'intermediate']\n",
    "df_2class"
   ]
  },
  {
   "cell_type": "markdown",
   "id": "a406f8b9",
   "metadata": {},
   "source": [
    "#### Now we have only 1275 entries instead of 1703 entries "
   ]
  },
  {
   "cell_type": "markdown",
   "id": "591ff93e",
   "metadata": {},
   "source": [
    "---"
   ]
  },
  {
   "cell_type": "markdown",
   "id": "af84e698",
   "metadata": {},
   "source": [
    "## **Exploratory Data Analysis (Chemical Space Analysis) via Lipinski descriptors**"
   ]
  },
  {
   "cell_type": "markdown",
   "id": "3561fbaa",
   "metadata": {},
   "source": [
    "### **Import library**"
   ]
  },
  {
   "cell_type": "code",
   "execution_count": 24,
   "id": "9e1f5c49",
   "metadata": {},
   "outputs": [],
   "source": [
    "import seaborn as sns\n",
    "sns.set(style='ticks')\n",
    "import matplotlib.pyplot as plt"
   ]
  },
  {
   "cell_type": "markdown",
   "id": "ea9d2fbb",
   "metadata": {},
   "source": [
    "### **Frequency plot of the 2 bioactivity classes**"
   ]
  },
  {
   "cell_type": "code",
   "execution_count": 25,
   "id": "30b966e5",
   "metadata": {},
   "outputs": [
    {
     "data": {
      "image/png": "[encoded data removed]",
      "text/plain": [
       "<Figure size 550x550 with 1 Axes>"
      ]
     },
     "metadata": {},
     "output_type": "display_data"
    }
   ],
   "source": [
    "plt.figure(figsize=(5.5, 5.5))\n",
    "\n",
    "sns.countplot(x='bioactivity_class', data=df_2class, edgecolor='black')\n",
    "\n",
    "plt.xlabel('Bioactivity class', fontsize=14, fontweight='bold')\n",
    "plt.ylabel('Frequency', fontsize=14, fontweight='bold')\n",
    "\n",
    "plt.savefig('plot_bioactivity_class.pdf')"
   ]
  },
  {
   "cell_type": "markdown",
   "id": "02c3b976",
   "metadata": {},
   "source": [
    "### **Scatter plot of MW versus LogP**\n",
    "\n",
    "It can be seen that the 2 bioactivity classes are spanning similar chemical spaces as evident by the scatter plot of MW vs LogP."
   ]
  },
  {
   "cell_type": "code",
   "execution_count": 26,
   "id": "456c0b78",
   "metadata": {},
   "outputs": [
    {
     "data": {
      "image/png": "[encoded data removed]",
      "text/plain": [
       "<Figure size 550x550 with 1 Axes>"
      ]
     },
     "metadata": {},
     "output_type": "display_data"
    }
   ],
   "source": [
    "plt.figure(figsize=(5.5, 5.5))\n",
    "\n",
    "sns.scatterplot(x='MW', y='LogP', data=df_2class, hue='bioactivity_class', size='pIC50', edgecolor='black', alpha=0.7)\n",
    "\n",
    "plt.xlabel('MW', fontsize=14, fontweight='bold')\n",
    "plt.ylabel('LogP', fontsize=14, fontweight='bold')\n",
    "plt.legend(bbox_to_anchor=(1.05, 1), loc=2, borderaxespad=0)\n",
    "plt.savefig('plot_MW_vs_LogP.pdf')"
   ]
  },
  {
   "cell_type": "markdown",
   "id": "56d870df",
   "metadata": {},
   "source": [
    "### **Box plots**"
   ]
  },
  {
   "cell_type": "markdown",
   "id": "a6f7b766",
   "metadata": {},
   "source": [
    "#### **pIC50 value**"
   ]
  },
  {
   "cell_type": "code",
   "execution_count": 27,
   "id": "82999f74",
   "metadata": {},
   "outputs": [
    {
     "data": {
      "image/png": "[encoded data removed]",
      "text/plain": [
       "<Figure size 550x550 with 1 Axes>"
      ]
     },
     "metadata": {},
     "output_type": "display_data"
    }
   ],
   "source": [
    "plt.figure(figsize=(5.5, 5.5))\n",
    "\n",
    "sns.boxplot(x = 'bioactivity_class', y = 'pIC50', data = df_2class)\n",
    "\n",
    "plt.xlabel('Bioactivity class', fontsize=14, fontweight='bold')\n",
    "plt.ylabel('pIC50 value', fontsize=14, fontweight='bold')\n",
    "\n",
    "plt.savefig('plot_ic50.pdf')"
   ]
  },
  {
   "cell_type": "markdown",
   "id": "d10427b5",
   "metadata": {},
   "source": [
    "**Statistical analysis | Mann-Whitney U Test**"
   ]
  },
  {
   "cell_type": "code",
   "execution_count": 28,
   "id": "c1d7f6d9",
   "metadata": {},
   "outputs": [],
   "source": [
    "def mannwhitney(descriptor, verbose=False):\n",
    "  # https://machinelearningmastery.com/nonparametric-statistical-significance-tests-in-python/\n",
    "  from numpy.random import seed\n",
    "  from numpy.random import randn\n",
    "  from scipy.stats import mannwhitneyu\n",
    "\n",
    "# seed the random number generator\n",
    "  seed(1)\n",
    "\n",
    "# actives and inactives\n",
    "  selection = [descriptor, 'bioactivity_class']\n",
    "  df = df_2class[selection]\n",
    "  active = df[df.bioactivity_class == 'active']\n",
    "  active = active[descriptor]\n",
    "\n",
    "  selection = [descriptor, 'bioactivity_class']\n",
    "  df = df_2class[selection]\n",
    "  inactive = df[df.bioactivity_class == 'inactive']\n",
    "  inactive = inactive[descriptor]\n",
    "\n",
    "# compare samples\n",
    "  stat, p = mannwhitneyu(active, inactive)\n",
    "  #print('Statistics=%.3f, p=%.3f' % (stat, p))\n",
    "\n",
    "# interpret\n",
    "  alpha = 0.05\n",
    "  if p > alpha:\n",
    "    interpretation = 'Same distribution (fail to reject H0)'\n",
    "  else:\n",
    "    interpretation = 'Different distribution (reject H0)'\n",
    "  \n",
    "  results = pd.DataFrame({'Descriptor':descriptor,\n",
    "                          'Statistics':stat,\n",
    "                          'p':p,\n",
    "                          'alpha':alpha,\n",
    "                          'Interpretation':interpretation}, index=[0])\n",
    "  filename = 'mannwhitneyu_' + descriptor + '.csv'\n",
    "  results.to_csv(filename)\n",
    "\n",
    "  return results"
   ]
  },
  {
   "cell_type": "code",
   "execution_count": 29,
   "id": "777601cb",
   "metadata": {},
   "outputs": [
    {
     "data": {
      "text/html": [
       "<div>\n",
       "<style scoped>\n",
       "    .dataframe tbody tr th:only-of-type {\n",
       "        vertical-align: middle;\n",
       "    }\n",
       "\n",
       "    .dataframe tbody tr th {\n",
       "        vertical-align: top;\n",
       "    }\n",
       "\n",
       "    .dataframe thead th {\n",
       "        text-align: right;\n",
       "    }\n",
       "</style>\n",
       "<table border=\"1\" class=\"dataframe\">\n",
       "  <thead>\n",
       "    <tr style=\"text-align: right;\">\n",
       "      <th></th>\n",
       "      <th>Descriptor</th>\n",
       "      <th>Statistics</th>\n",
       "      <th>p</th>\n",
       "      <th>alpha</th>\n",
       "      <th>Interpretation</th>\n",
       "    </tr>\n",
       "  </thead>\n",
       "  <tbody>\n",
       "    <tr>\n",
       "      <th>0</th>\n",
       "      <td>pIC50</td>\n",
       "      <td>367004.0</td>\n",
       "      <td>1.083975e-189</td>\n",
       "      <td>0.05</td>\n",
       "      <td>Different distribution (reject H0)</td>\n",
       "    </tr>\n",
       "  </tbody>\n",
       "</table>\n",
       "</div>"
      ],
      "text/plain": [
       "  Descriptor  Statistics              p  alpha  \\\n",
       "0      pIC50    367004.0  1.083975e-189   0.05   \n",
       "\n",
       "                       Interpretation  \n",
       "0  Different distribution (reject H0)  "
      ]
     },
     "execution_count": 29,
     "metadata": {},
     "output_type": "execute_result"
    }
   ],
   "source": [
    "mannwhitney('pIC50')"
   ]
  },
  {
   "cell_type": "markdown",
   "id": "4e2efc32",
   "metadata": {},
   "source": [
    "#### **MW**"
   ]
  },
  {
   "cell_type": "code",
   "execution_count": 30,
   "id": "d77f235f",
   "metadata": {},
   "outputs": [
    {
     "data": {
      "image/png": "[encoded data removed]",
      "text/plain": [
       "<Figure size 550x550 with 1 Axes>"
      ]
     },
     "metadata": {},
     "output_type": "display_data"
    }
   ],
   "source": [
    "plt.figure(figsize=(5.5, 5.5))\n",
    "\n",
    "sns.boxplot(x = 'bioactivity_class', y = 'MW', data = df_2class)\n",
    "\n",
    "plt.xlabel('Bioactivity class', fontsize=14, fontweight='bold')\n",
    "plt.ylabel('MW', fontsize=14, fontweight='bold')\n",
    "\n",
    "plt.savefig('plot_MW.pdf')"
   ]
  },
  {
   "cell_type": "code",
   "execution_count": 31,
   "id": "af2162dc",
   "metadata": {},
   "outputs": [
    {
     "data": {
      "text/html": [
       "<div>\n",
       "<style scoped>\n",
       "    .dataframe tbody tr th:only-of-type {\n",
       "        vertical-align: middle;\n",
       "    }\n",
       "\n",
       "    .dataframe tbody tr th {\n",
       "        vertical-align: top;\n",
       "    }\n",
       "\n",
       "    .dataframe thead th {\n",
       "        text-align: right;\n",
       "    }\n",
       "</style>\n",
       "<table border=\"1\" class=\"dataframe\">\n",
       "  <thead>\n",
       "    <tr style=\"text-align: right;\">\n",
       "      <th></th>\n",
       "      <th>Descriptor</th>\n",
       "      <th>Statistics</th>\n",
       "      <th>p</th>\n",
       "      <th>alpha</th>\n",
       "      <th>Interpretation</th>\n",
       "    </tr>\n",
       "  </thead>\n",
       "  <tbody>\n",
       "    <tr>\n",
       "      <th>0</th>\n",
       "      <td>MW</td>\n",
       "      <td>257541.0</td>\n",
       "      <td>2.103276e-32</td>\n",
       "      <td>0.05</td>\n",
       "      <td>Different distribution (reject H0)</td>\n",
       "    </tr>\n",
       "  </tbody>\n",
       "</table>\n",
       "</div>"
      ],
      "text/plain": [
       "  Descriptor  Statistics             p  alpha  \\\n",
       "0         MW    257541.0  2.103276e-32   0.05   \n",
       "\n",
       "                       Interpretation  \n",
       "0  Different distribution (reject H0)  "
      ]
     },
     "execution_count": 31,
     "metadata": {},
     "output_type": "execute_result"
    }
   ],
   "source": [
    "mannwhitney('MW')"
   ]
  },
  {
   "cell_type": "markdown",
   "id": "6b4a9175",
   "metadata": {},
   "source": [
    "#### **LogP**"
   ]
  },
  {
   "cell_type": "code",
   "execution_count": 32,
   "id": "125e6fef",
   "metadata": {},
   "outputs": [
    {
     "data": {
      "image/png": "[encoded data removed]",
      "text/plain": [
       "<Figure size 550x550 with 1 Axes>"
      ]
     },
     "metadata": {},
     "output_type": "display_data"
    }
   ],
   "source": [
    "plt.figure(figsize=(5.5, 5.5))\n",
    "\n",
    "sns.boxplot(x = 'bioactivity_class', y = 'LogP', data = df_2class)\n",
    "\n",
    "plt.xlabel('Bioactivity class', fontsize=14, fontweight='bold')\n",
    "plt.ylabel('LogP', fontsize=14, fontweight='bold')\n",
    "\n",
    "plt.savefig('plot_LogP.pdf')"
   ]
  },
  {
   "cell_type": "markdown",
   "id": "b1ebe746",
   "metadata": {},
   "source": [
    "**Statistical analysis | Mann-Whitney U Test**"
   ]
  },
  {
   "cell_type": "code",
   "execution_count": 33,
   "id": "05730c37",
   "metadata": {},
   "outputs": [
    {
     "data": {
      "text/html": [
       "<div>\n",
       "<style scoped>\n",
       "    .dataframe tbody tr th:only-of-type {\n",
       "        vertical-align: middle;\n",
       "    }\n",
       "\n",
       "    .dataframe tbody tr th {\n",
       "        vertical-align: top;\n",
       "    }\n",
       "\n",
       "    .dataframe thead th {\n",
       "        text-align: right;\n",
       "    }\n",
       "</style>\n",
       "<table border=\"1\" class=\"dataframe\">\n",
       "  <thead>\n",
       "    <tr style=\"text-align: right;\">\n",
       "      <th></th>\n",
       "      <th>Descriptor</th>\n",
       "      <th>Statistics</th>\n",
       "      <th>p</th>\n",
       "      <th>alpha</th>\n",
       "      <th>Interpretation</th>\n",
       "    </tr>\n",
       "  </thead>\n",
       "  <tbody>\n",
       "    <tr>\n",
       "      <th>0</th>\n",
       "      <td>LogP</td>\n",
       "      <td>269317.5</td>\n",
       "      <td>6.089067e-43</td>\n",
       "      <td>0.05</td>\n",
       "      <td>Different distribution (reject H0)</td>\n",
       "    </tr>\n",
       "  </tbody>\n",
       "</table>\n",
       "</div>"
      ],
      "text/plain": [
       "  Descriptor  Statistics             p  alpha  \\\n",
       "0       LogP    269317.5  6.089067e-43   0.05   \n",
       "\n",
       "                       Interpretation  \n",
       "0  Different distribution (reject H0)  "
      ]
     },
     "execution_count": 33,
     "metadata": {},
     "output_type": "execute_result"
    }
   ],
   "source": [
    "mannwhitney('LogP')"
   ]
  },
  {
   "cell_type": "markdown",
   "id": "12338b8f",
   "metadata": {},
   "source": [
    "#### **NumHDonors**"
   ]
  },
  {
   "cell_type": "code",
   "execution_count": 34,
   "id": "af12e8d1",
   "metadata": {},
   "outputs": [
    {
     "data": {
      "image/png": "[encoded data removed]",
      "text/plain": [
       "<Figure size 550x550 with 1 Axes>"
      ]
     },
     "metadata": {},
     "output_type": "display_data"
    }
   ],
   "source": [
    "plt.figure(figsize=(5.5, 5.5))\n",
    "\n",
    "sns.boxplot(x = 'bioactivity_class', y = 'NumHDonors', data = df_2class)\n",
    "\n",
    "plt.xlabel('Bioactivity class', fontsize=14, fontweight='bold')\n",
    "plt.ylabel('NumHDonors', fontsize=14, fontweight='bold')\n",
    "\n",
    "plt.savefig('plot_NumHDonors.pdf')"
   ]
  },
  {
   "cell_type": "markdown",
   "id": "d0df9cb3",
   "metadata": {},
   "source": [
    "**Statistical analysis | Mann-Whitney U Test**"
   ]
  },
  {
   "cell_type": "code",
   "execution_count": 35,
   "id": "e231bef6",
   "metadata": {},
   "outputs": [
    {
     "data": {
      "text/html": [
       "<div>\n",
       "<style scoped>\n",
       "    .dataframe tbody tr th:only-of-type {\n",
       "        vertical-align: middle;\n",
       "    }\n",
       "\n",
       "    .dataframe tbody tr th {\n",
       "        vertical-align: top;\n",
       "    }\n",
       "\n",
       "    .dataframe thead th {\n",
       "        text-align: right;\n",
       "    }\n",
       "</style>\n",
       "<table border=\"1\" class=\"dataframe\">\n",
       "  <thead>\n",
       "    <tr style=\"text-align: right;\">\n",
       "      <th></th>\n",
       "      <th>Descriptor</th>\n",
       "      <th>Statistics</th>\n",
       "      <th>p</th>\n",
       "      <th>alpha</th>\n",
       "      <th>Interpretation</th>\n",
       "    </tr>\n",
       "  </thead>\n",
       "  <tbody>\n",
       "    <tr>\n",
       "      <th>0</th>\n",
       "      <td>NumHDonors</td>\n",
       "      <td>199959.5</td>\n",
       "      <td>0.004901</td>\n",
       "      <td>0.05</td>\n",
       "      <td>Different distribution (reject H0)</td>\n",
       "    </tr>\n",
       "  </tbody>\n",
       "</table>\n",
       "</div>"
      ],
      "text/plain": [
       "   Descriptor  Statistics         p  alpha                      Interpretation\n",
       "0  NumHDonors    199959.5  0.004901   0.05  Different distribution (reject H0)"
      ]
     },
     "execution_count": 35,
     "metadata": {},
     "output_type": "execute_result"
    }
   ],
   "source": [
    "mannwhitney('NumHDonors')"
   ]
  },
  {
   "cell_type": "markdown",
   "id": "dc863187",
   "metadata": {},
   "source": [
    "#### **NumHAcceptors**"
   ]
  },
  {
   "cell_type": "code",
   "execution_count": 36,
   "id": "d16571ae",
   "metadata": {},
   "outputs": [
    {
     "data": {
      "image/png": "[encoded data removed]",
      "text/plain": [
       "<Figure size 550x550 with 1 Axes>"
      ]
     },
     "metadata": {},
     "output_type": "display_data"
    }
   ],
   "source": [
    "plt.figure(figsize=(5.5, 5.5))\n",
    "\n",
    "sns.boxplot(x = 'bioactivity_class', y = 'NumHAcceptors', data = df_2class)\n",
    "\n",
    "plt.xlabel('Bioactivity class', fontsize=14, fontweight='bold')\n",
    "plt.ylabel('NumHAcceptors', fontsize=14, fontweight='bold')\n",
    "\n",
    "plt.savefig('plot_NumHAcceptors.pdf')"
   ]
  },
  {
   "cell_type": "markdown",
   "id": "50969e1b",
   "metadata": {},
   "source": [
    "**Statistical analysis | Mann-Whitney U Test**"
   ]
  },
  {
   "cell_type": "code",
   "execution_count": 37,
   "id": "76c7028c",
   "metadata": {},
   "outputs": [
    {
     "data": {
      "text/html": [
       "<div>\n",
       "<style scoped>\n",
       "    .dataframe tbody tr th:only-of-type {\n",
       "        vertical-align: middle;\n",
       "    }\n",
       "\n",
       "    .dataframe tbody tr th {\n",
       "        vertical-align: top;\n",
       "    }\n",
       "\n",
       "    .dataframe thead th {\n",
       "        text-align: right;\n",
       "    }\n",
       "</style>\n",
       "<table border=\"1\" class=\"dataframe\">\n",
       "  <thead>\n",
       "    <tr style=\"text-align: right;\">\n",
       "      <th></th>\n",
       "      <th>Descriptor</th>\n",
       "      <th>Statistics</th>\n",
       "      <th>p</th>\n",
       "      <th>alpha</th>\n",
       "      <th>Interpretation</th>\n",
       "    </tr>\n",
       "  </thead>\n",
       "  <tbody>\n",
       "    <tr>\n",
       "      <th>0</th>\n",
       "      <td>NumHAcceptors</td>\n",
       "      <td>182622.5</td>\n",
       "      <td>0.886902</td>\n",
       "      <td>0.05</td>\n",
       "      <td>Same distribution (fail to reject H0)</td>\n",
       "    </tr>\n",
       "  </tbody>\n",
       "</table>\n",
       "</div>"
      ],
      "text/plain": [
       "      Descriptor  Statistics         p  alpha  \\\n",
       "0  NumHAcceptors    182622.5  0.886902   0.05   \n",
       "\n",
       "                          Interpretation  \n",
       "0  Same distribution (fail to reject H0)  "
      ]
     },
     "execution_count": 37,
     "metadata": {},
     "output_type": "execute_result"
    }
   ],
   "source": [
    "mannwhitney('NumHAcceptors')"
   ]
  },
  {
   "cell_type": "markdown",
   "id": "7806fa0b",
   "metadata": {},
   "source": [
    "#### **Interpretation of Statistical Results**"
   ]
  },
  {
   "cell_type": "markdown",
   "id": "c4cb2613",
   "metadata": {},
   "source": [
    "##### **Box Plots**\n",
    "\n",
    "###### **pIC50 values**\n",
    "\n",
    "Taking a look at pIC50 values, the **actives** and **inactives** displayed ***statistically significant difference***, which is to be expected since threshold values (``IC50 < 1,000 nM = Actives while IC50 > 10,000 nM = Inactives``, corresponding to ``pIC50 > 6 = Actives and pIC50 < 5 = Inactives``) were used to define actives and inactives.\n",
    "\n",
    "###### **Lipinski's descriptors**\n",
    "\n",
    "Of the 4 Lipinski's descriptors (MW, LogP, NumHDonors and NumHAcceptors), only LogP exhibited ***no difference*** between the **actives** and **inactives** while the other 3 descriptors (MW, NumHDonors and NumHAcceptors) shows ***statistically significant difference*** between **actives** and **inactives**."
   ]
  },
  {
   "cell_type": "code",
   "execution_count": 38,
   "id": "20417f57",
   "metadata": {},
   "outputs": [
    {
     "name": "stdout",
     "output_type": "stream",
     "text": [
      "  adding: mannwhitneyu_NumHAcceptors.csv (deflated 11%)\n",
      "  adding: soat_1_bioa_data_preprocessed.csv (deflated 80%)\n",
      "  adding: output_Sterol O-acyltransferase 1 inhibitors 1703.csv (deflated 88%)\n",
      "  adding: IC50.csv (deflated 72%)\n",
      "  adding: mannwhitneyu_NumHDonors.csv (deflated 11%)\n",
      "  adding: mannwhitneyu_MW.csv (deflated 8%)\n",
      "  adding: plot_bioactivity_class.pdf (deflated 37%)\n",
      "  adding: output2_Sterol O-acyltransferase 1 inhibitors 1703.csv (deflated 88%)\n",
      "  adding: plot_LogP.pdf (deflated 38%)\n",
      "  adding: plot_MW.pdf (deflated 37%)\n",
      "  adding: final_output.csv (deflated 85%)\n",
      "  adding: plot_NumHDonors.pdf (deflated 38%)\n",
      "  adding: Output3_Sterol O-acyltransferase 1 inhibitors 1703.csv (deflated 88%)\n",
      "  adding: plot_NumHAcceptors.pdf (deflated 38%)\n",
      "  adding: plot_ic50.pdf (deflated 36%)\n",
      "  adding: mannwhitneyu_pIC50.csv (deflated 11%)\n",
      "  adding: plot_MW_vs_LogP.pdf (deflated 4%)\n",
      "  adding: mannwhitneyu_LogP.csv (deflated 8%)\n"
     ]
    }
   ],
   "source": [
    "! zip -r results.zip . -i *.csv *.pdf"
   ]
  }
 ],
 "metadata": {
  "kernelspec": {
   "display_name": "Python 3 (ipykernel)",
   "language": "python",
   "name": "python3"
  },
  "language_info": {
   "codemirror_mode": {
    "name": "ipython",
    "version": 3
   },
   "file_extension": ".py",
   "mimetype": "text/x-python",
   "name": "python",
   "nbconvert_exporter": "python",
   "pygments_lexer": "ipython3",
   "version": "3.10.9"
  }
 },
 "nbformat": 4,
 "nbformat_minor": 5
}
